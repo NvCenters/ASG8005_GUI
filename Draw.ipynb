{
 "cells": [
  {
   "cell_type": "code",
   "execution_count": 26,
   "id": "84b8f432",
   "metadata": {},
   "outputs": [],
   "source": [
    "def High_low(localAddress):  # 地址和高低电平，0为高，1为低\n",
    "    ch1 = pd.read_excel(localAddress, header=None)\n",
    "    #ch1_high = ch1[ch1.index % 2 == ele].astype(str)\n",
    "    ch1 = ch1.astype(str)\n",
    "    ch1_high = (ch1.values).tolist()\n",
    "    ch1_high = [str(i) for i in ch1_high]\n",
    "    ch1_high = ''.join(ch1_high)\n",
    "    ch1_high = ch1_high.replace(\"['\",\"\")\n",
    "    ch1_high = ch1_high.replace(\"']\", \",\")\n",
    "    ch1_high = ch1_high.split(\",\")\n",
    "    return ch1_high"
   ]
  },
  {
   "cell_type": "code",
   "execution_count": 27,
   "id": "d1e4477d",
   "metadata": {},
   "outputs": [],
   "source": [
    "import pandas as pd\n",
    "a =High_low('CH1.xlsx')"
   ]
  },
  {
   "cell_type": "code",
   "execution_count": 36,
   "id": "4dfd646b",
   "metadata": {},
   "outputs": [],
   "source": [
    "ch1 = pd.read_excel('CH1.xlsx', header=None)"
   ]
  },
  {
   "cell_type": "code",
   "execution_count": 18,
   "id": "ea2a9275",
   "metadata": {},
   "outputs": [],
   "source": [
    "for i in range(len(a)):\n",
    "    if(i%2)==1:\n",
    "        x[i] = 1"
   ]
  },
  {
   "cell_type": "code",
   "execution_count": 17,
   "id": "41372180",
   "metadata": {},
   "outputs": [],
   "source": [
    "x = [0 for i in range(len(a))]"
   ]
  },
  {
   "cell_type": "code",
   "execution_count": 40,
   "id": "91e53b01",
   "metadata": {},
   "outputs": [],
   "source": [
    "ch1 = np.array(ch1)\n",
    "# 然后转化为list形式\n",
    "ch1 =ch1.tolist()"
   ]
  },
  {
   "cell_type": "code",
   "execution_count": 46,
   "id": "2a31622c",
   "metadata": {},
   "outputs": [],
   "source": [
    "from itertools import chain\n",
    "onid = list(chain.from_iterable(ch1))"
   ]
  },
  {
   "cell_type": "code",
   "execution_count": 31,
   "id": "78afccc4",
   "metadata": {},
   "outputs": [],
   "source": [
    "a = map(float,a)"
   ]
  },
  {
   "cell_type": "code",
   "execution_count": 22,
   "id": "accb1282",
   "metadata": {},
   "outputs": [
    {
     "data": {
      "text/plain": [
       "str"
      ]
     },
     "execution_count": 22,
     "metadata": {},
     "output_type": "execute_result"
    }
   ],
   "source": [
    "type(a[0])"
   ]
  },
  {
   "cell_type": "code",
   "execution_count": 48,
   "id": "37daa771",
   "metadata": {},
   "outputs": [
    {
     "data": {
      "text/plain": [
       "range(0, 10)"
      ]
     },
     "execution_count": 48,
     "metadata": {},
     "output_type": "execute_result"
    }
   ],
   "source": [
    "range(10)"
   ]
  },
  {
   "cell_type": "code",
   "execution_count": 50,
   "id": "4da88638",
   "metadata": {},
   "outputs": [],
   "source": [
    "for i in range(1,len(onid)-1):\n",
    "    onid[i] = onid[i-1] + onid[i] "
   ]
  },
  {
   "cell_type": "code",
   "execution_count": 54,
   "id": "8d360371",
   "metadata": {},
   "outputs": [],
   "source": [
    "import matplotlib.pyplot as plt"
   ]
  },
  {
   "cell_type": "code",
   "execution_count": 74,
   "id": "e412e2b2",
   "metadata": {},
   "outputs": [
    {
     "data": {
      "text/plain": [
       "[<matplotlib.lines.Line2D at 0x25ef96a6a30>]"
      ]
     },
     "execution_count": 74,
     "metadata": {},
     "output_type": "execute_result"
    },
    {
     "data": {
      "image/png": "[encoded data removed]",
      "text/plain": [
       "<Figure size 432x288 with 1 Axes>"
      ]
     },
     "metadata": {
      "needs_background": "light"
     },
     "output_type": "display_data"
    }
   ],
   "source": [
    "plt.plot(onid,x,drawstyle='steps-pre')"
   ]
  },
  {
   "cell_type": "code",
   "execution_count": 57,
   "id": "18fbb453",
   "metadata": {},
   "outputs": [
    {
     "data": {
      "text/plain": [
       "203"
      ]
     },
     "execution_count": 57,
     "metadata": {},
     "output_type": "execute_result"
    }
   ],
   "source": [
    "len(x)"
   ]
  },
  {
   "cell_type": "code",
   "execution_count": 58,
   "id": "6a802681",
   "metadata": {},
   "outputs": [
    {
     "data": {
      "text/plain": [
       "202"
      ]
     },
     "execution_count": 58,
     "metadata": {},
     "output_type": "execute_result"
    }
   ],
   "source": [
    "len(onid)"
   ]
  },
  {
   "cell_type": "code",
   "execution_count": 59,
   "id": "9f9d1647",
   "metadata": {},
   "outputs": [
    {
     "ename": "IndexError",
     "evalue": "list assignment index out of range",
     "output_type": "error",
     "traceback": [
      "\u001b[1;31m---------------------------------------------------------------------------\u001b[0m",
      "\u001b[1;31mIndexError\u001b[0m                                Traceback (most recent call last)",
      "\u001b[1;32m<ipython-input-59-eb6ad7935821>\u001b[0m in \u001b[0;36m<module>\u001b[1;34m\u001b[0m\n\u001b[1;32m----> 1\u001b[1;33m \u001b[0monid\u001b[0m\u001b[1;33m[\u001b[0m\u001b[1;36m202\u001b[0m\u001b[1;33m]\u001b[0m \u001b[1;33m=\u001b[0m \u001b[1;36m1\u001b[0m\u001b[1;33m\u001b[0m\u001b[1;33m\u001b[0m\u001b[0m\n\u001b[0m",
      "\u001b[1;31mIndexError\u001b[0m: list assignment index out of range"
     ]
    }
   ],
   "source": [
    "onid[202] = 1"
   ]
  },
  {
   "cell_type": "code",
   "execution_count": 100,
   "id": "fc9dc36a",
   "metadata": {},
   "outputs": [
    {
     "data": {
      "text/plain": [
       "[<matplotlib.lines.Line2D at 0x25e9cd09eb0>]"
      ]
     },
     "execution_count": 100,
     "metadata": {},
     "output_type": "execute_result"
    },
    {
     "data": {
      "image/png": "[encoded data removed]",
      "text/plain": [
       "<Figure size 864x144 with 1 Axes>"
      ]
     },
     "metadata": {
      "needs_background": "light"
     },
     "output_type": "display_data"
    }
   ],
   "source": [
    "import pandas as pd\n",
    "import matplotlib.pyplot as plt\n",
    "plt.rcParams['figure.figsize'] = (12.0, 2.0) # 单位是inches\n",
    "ch1 = pd.read_excel('CH1.xlsx', header=None)\n",
    "ch1 = np.array(ch1)\n",
    "# 然后转化为list形式\n",
    "ch1 =ch1.tolist()\n",
    "ch1 = list(chain.from_iterable(ch1))\n",
    "x = [0 for i in range(len(ch1))]\n",
    "for i in range(len(ch1)):\n",
    "    if(i%2)==0:\n",
    "        x[i] = 1\n",
    "for i in range(1,len(ch1)-1):\n",
    "    ch1[i] = ch1[i-1] + ch1[i] \n",
    "plt.plot(ch1,x,drawstyle='steps-pre')"
   ]
  },
  {
   "cell_type": "code",
   "execution_count": 83,
   "id": "c31b0632",
   "metadata": {},
   "outputs": [
    {
     "data": {
      "text/plain": [
       "[10,\n",
       " 303010,\n",
       " 303020,\n",
       " 606140,\n",
       " 606160,\n",
       " 909280,\n",
       " 909310,\n",
       " 1212430,\n",
       " 1212470,\n",
       " 1515590,\n",
       " 1515640,\n",
       " 1818760,\n",
       " 1818820,\n",
       " 2121940,\n",
       " 2122010,\n",
       " 2425130,\n",
       " 2425210,\n",
       " 2728330,\n",
       " 2728420,\n",
       " 3031540,\n",
       " 3031640,\n",
       " 3334760,\n",
       " 3334870,\n",
       " 3637990,\n",
       " 3638110,\n",
       " 3941230,\n",
       " 3941360,\n",
       " 4244480,\n",
       " 4244620,\n",
       " 4547740,\n",
       " 4547890,\n",
       " 4851010,\n",
       " 4851170,\n",
       " 5154290,\n",
       " 5154460,\n",
       " 5457580,\n",
       " 5457760,\n",
       " 5760880,\n",
       " 5761070,\n",
       " 6064190,\n",
       " 6064390,\n",
       " 6367510,\n",
       " 6367720,\n",
       " 6670840,\n",
       " 6671060,\n",
       " 6974180,\n",
       " 6974410,\n",
       " 7277530,\n",
       " 7277770,\n",
       " 7580890,\n",
       " 7581140,\n",
       " 7884260,\n",
       " 7884520,\n",
       " 8187640,\n",
       " 8187910,\n",
       " 8491030,\n",
       " 8491310,\n",
       " 8794430,\n",
       " 8794720,\n",
       " 9097840,\n",
       " 9098140,\n",
       " 9401260,\n",
       " 9401570,\n",
       " 9704690,\n",
       " 9705010,\n",
       " 10008130,\n",
       " 10008460,\n",
       " 10311580,\n",
       " 10311920,\n",
       " 10615040,\n",
       " 10615390,\n",
       " 10918510,\n",
       " 10918870,\n",
       " 11221990,\n",
       " 11222360,\n",
       " 11525480,\n",
       " 11525860,\n",
       " 11828980,\n",
       " 11829370,\n",
       " 12132490,\n",
       " 12132890,\n",
       " 12436010,\n",
       " 12436420,\n",
       " 12739540,\n",
       " 12739960,\n",
       " 13043080,\n",
       " 13043510,\n",
       " 13346630,\n",
       " 13347070,\n",
       " 13650190,\n",
       " 13650640,\n",
       " 13953760,\n",
       " 13954220,\n",
       " 14257340,\n",
       " 14257810,\n",
       " 14560930,\n",
       " 14561410,\n",
       " 14864530,\n",
       " 14865020,\n",
       " 15168140,\n",
       " 15168640,\n",
       " 15471760,\n",
       " 15472270,\n",
       " 15775390,\n",
       " 15775910,\n",
       " 16079030,\n",
       " 16079560,\n",
       " 16382680,\n",
       " 16383220,\n",
       " 16686340,\n",
       " 16686890,\n",
       " 16990010,\n",
       " 16990570,\n",
       " 17293690,\n",
       " 17294260,\n",
       " 17597380,\n",
       " 17597960,\n",
       " 17901080,\n",
       " 17901670,\n",
       " 18204790,\n",
       " 18205390,\n",
       " 18508510,\n",
       " 18509120,\n",
       " 18812240,\n",
       " 18812860,\n",
       " 19115980,\n",
       " 19116610,\n",
       " 19419730,\n",
       " 19420370,\n",
       " 19723490,\n",
       " 19724140,\n",
       " 20027260,\n",
       " 20027920,\n",
       " 20331040,\n",
       " 20331710,\n",
       " 20634830,\n",
       " 20635510,\n",
       " 20938630,\n",
       " 20939320,\n",
       " 21242440,\n",
       " 21243140,\n",
       " 21546260,\n",
       " 21546970,\n",
       " 21850090,\n",
       " 21850810,\n",
       " 22153930,\n",
       " 22154660,\n",
       " 22457780,\n",
       " 22458520,\n",
       " 22761640,\n",
       " 22762390,\n",
       " 23065510,\n",
       " 23066270,\n",
       " 23369390,\n",
       " 23370160,\n",
       " 23673280,\n",
       " 23674060,\n",
       " 23977180,\n",
       " 23977970,\n",
       " 24281090,\n",
       " 24281890,\n",
       " 24585010,\n",
       " 24585820,\n",
       " 24888940,\n",
       " 24889760,\n",
       " 25192880,\n",
       " 25193710,\n",
       " 25496830,\n",
       " 25497670,\n",
       " 25800790,\n",
       " 25801640,\n",
       " 26104760,\n",
       " 26105620,\n",
       " 26408740,\n",
       " 26409610,\n",
       " 26712730,\n",
       " 26713610,\n",
       " 27016730,\n",
       " 27017620,\n",
       " 27320740,\n",
       " 27321640,\n",
       " 27624760,\n",
       " 27625670,\n",
       " 27928790,\n",
       " 27929710,\n",
       " 28232830,\n",
       " 28233760,\n",
       " 28536880,\n",
       " 28537820,\n",
       " 28840940,\n",
       " 28841890,\n",
       " 29145010,\n",
       " 29145970,\n",
       " 29449090,\n",
       " 29450060,\n",
       " 29753180,\n",
       " 29754160,\n",
       " 30057280,\n",
       " 30058270,\n",
       " 30361390,\n",
       " 30362390,\n",
       " 303120]"
      ]
     },
     "execution_count": 83,
     "metadata": {},
     "output_type": "execute_result"
    }
   ],
   "source": [
    "ch1"
   ]
  },
  {
   "cell_type": "code",
   "execution_count": 62,
   "id": "71cfb41d",
   "metadata": {},
   "outputs": [
    {
     "data": {
      "text/plain": [
       "202"
      ]
     },
     "execution_count": 62,
     "metadata": {},
     "output_type": "execute_result"
    }
   ],
   "source": [
    "len(x)"
   ]
  },
  {
   "cell_type": "code",
   "execution_count": 73,
   "id": "c215099e",
   "metadata": {},
   "outputs": [],
   "source": [
    "for i in range(len(onid)):\n",
    "    if(i%2)==0:\n",
    "        x[i] = 1"
   ]
  },
  {
   "cell_type": "code",
   "execution_count": 75,
   "id": "f0df1b72",
   "metadata": {},
   "outputs": [
    {
     "data": {
      "text/plain": [
       "[[10],\n",
       " [303000],\n",
       " [10],\n",
       " [303120],\n",
       " [20],\n",
       " [303120],\n",
       " [30],\n",
       " [303120],\n",
       " [40],\n",
       " [303120],\n",
       " [50],\n",
       " [303120],\n",
       " [60],\n",
       " [303120],\n",
       " [70],\n",
       " [303120],\n",
       " [80],\n",
       " [303120],\n",
       " [90],\n",
       " [303120],\n",
       " [100],\n",
       " [303120],\n",
       " [110],\n",
       " [303120],\n",
       " [120],\n",
       " [303120],\n",
       " [130],\n",
       " [303120],\n",
       " [140],\n",
       " [303120],\n",
       " [150],\n",
       " [303120],\n",
       " [160],\n",
       " [303120],\n",
       " [170],\n",
       " [303120],\n",
       " [180],\n",
       " [303120],\n",
       " [190],\n",
       " [303120],\n",
       " [200],\n",
       " [303120],\n",
       " [210],\n",
       " [303120],\n",
       " [220],\n",
       " [303120],\n",
       " [230],\n",
       " [303120],\n",
       " [240],\n",
       " [303120],\n",
       " [250],\n",
       " [303120],\n",
       " [260],\n",
       " [303120],\n",
       " [270],\n",
       " [303120],\n",
       " [280],\n",
       " [303120],\n",
       " [290],\n",
       " [303120],\n",
       " [300],\n",
       " [303120],\n",
       " [310],\n",
       " [303120],\n",
       " [320],\n",
       " [303120],\n",
       " [330],\n",
       " [303120],\n",
       " [340],\n",
       " [303120],\n",
       " [350],\n",
       " [303120],\n",
       " [360],\n",
       " [303120],\n",
       " [370],\n",
       " [303120],\n",
       " [380],\n",
       " [303120],\n",
       " [390],\n",
       " [303120],\n",
       " [400],\n",
       " [303120],\n",
       " [410],\n",
       " [303120],\n",
       " [420],\n",
       " [303120],\n",
       " [430],\n",
       " [303120],\n",
       " [440],\n",
       " [303120],\n",
       " [450],\n",
       " [303120],\n",
       " [460],\n",
       " [303120],\n",
       " [470],\n",
       " [303120],\n",
       " [480],\n",
       " [303120],\n",
       " [490],\n",
       " [303120],\n",
       " [500],\n",
       " [303120],\n",
       " [510],\n",
       " [303120],\n",
       " [520],\n",
       " [303120],\n",
       " [530],\n",
       " [303120],\n",
       " [540],\n",
       " [303120],\n",
       " [550],\n",
       " [303120],\n",
       " [560],\n",
       " [303120],\n",
       " [570],\n",
       " [303120],\n",
       " [580],\n",
       " [303120],\n",
       " [590],\n",
       " [303120],\n",
       " [600],\n",
       " [303120],\n",
       " [610],\n",
       " [303120],\n",
       " [620],\n",
       " [303120],\n",
       " [630],\n",
       " [303120],\n",
       " [640],\n",
       " [303120],\n",
       " [650],\n",
       " [303120],\n",
       " [660],\n",
       " [303120],\n",
       " [670],\n",
       " [303120],\n",
       " [680],\n",
       " [303120],\n",
       " [690],\n",
       " [303120],\n",
       " [700],\n",
       " [303120],\n",
       " [710],\n",
       " [303120],\n",
       " [720],\n",
       " [303120],\n",
       " [730],\n",
       " [303120],\n",
       " [740],\n",
       " [303120],\n",
       " [750],\n",
       " [303120],\n",
       " [760],\n",
       " [303120],\n",
       " [770],\n",
       " [303120],\n",
       " [780],\n",
       " [303120],\n",
       " [790],\n",
       " [303120],\n",
       " [800],\n",
       " [303120],\n",
       " [810],\n",
       " [303120],\n",
       " [820],\n",
       " [303120],\n",
       " [830],\n",
       " [303120],\n",
       " [840],\n",
       " [303120],\n",
       " [850],\n",
       " [303120],\n",
       " [860],\n",
       " [303120],\n",
       " [870],\n",
       " [303120],\n",
       " [880],\n",
       " [303120],\n",
       " [890],\n",
       " [303120],\n",
       " [900],\n",
       " [303120],\n",
       " [910],\n",
       " [303120],\n",
       " [920],\n",
       " [303120],\n",
       " [930],\n",
       " [303120],\n",
       " [940],\n",
       " [303120],\n",
       " [950],\n",
       " [303120],\n",
       " [960],\n",
       " [303120],\n",
       " [970],\n",
       " [303120],\n",
       " [980],\n",
       " [303120],\n",
       " [990],\n",
       " [303120],\n",
       " [1000],\n",
       " [303120]]"
      ]
     },
     "execution_count": 75,
     "metadata": {},
     "output_type": "execute_result"
    }
   ],
   "source": [
    "ch1"
   ]
  },
  {
   "cell_type": "code",
   "execution_count": null,
   "id": "940cb7e5",
   "metadata": {},
   "outputs": [],
   "source": []
  }
 ],
 "metadata": {
  "kernelspec": {
   "display_name": "Python 3",
   "language": "python",
   "name": "python3"
  },
  "language_info": {
   "codemirror_mode": {
    "name": "ipython",
    "version": 3
   },
   "file_extension": ".py",
   "mimetype": "text/x-python",
   "name": "python",
   "nbconvert_exporter": "python",
   "pygments_lexer": "ipython3",
   "version": "3.8.8"
  }
 },
 "nbformat": 4,
 "nbformat_minor": 5
}
