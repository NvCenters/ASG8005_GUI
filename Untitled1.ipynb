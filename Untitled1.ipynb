{
 "cells": [
  {
   "cell_type": "code",
   "execution_count": 3,
   "id": "b7afd583",
   "metadata": {},
   "outputs": [],
   "source": [
    "import tkinter\n",
    "\n",
    "# 创建画布需要的库\n",
    "from matplotlib.backends.backend_tkagg import FigureCanvasTkAgg\n",
    "\n",
    "# 创建工具栏需要的库\n",
    "from matplotlib.backends.backend_tkagg import NavigationToolbar2Tk\n",
    "\n",
    "# 快捷键需要的模块\n",
    "from matplotlib.backend_bases import key_press_handler\n",
    "\n",
    "# 导入绘图需要的模块\n",
    "from matplotlib.figure import Figure\n",
    "\n",
    "\n",
    "\n",
    "# 实例化一个根窗口与设置标题\n",
    "root = tkinter.Tk()\n",
    "root.wm_title(\"Embedding in Tk\")\n",
    "\n",
    "# 画布的大小和分别率\n",
    "fig = Figure(figsize=(12, 4), dpi=100)\n",
    "\n",
    "\n",
    "\n",
    "# 利用子图画图\n",
    "axc = fig.add_subplot(818)\n",
    "axc.plot(x,ch1,drawstyle='steps-pre')\n",
    "\n",
    "# 创建画布控件\n",
    "canvas = FigureCanvasTkAgg(fig, master=root)  # A tk.DrawingArea.\n",
    "canvas.draw()\n",
    "# 显示画布控件\n",
    "canvas.get_tk_widget().place(x=244 + 500, y=40)\n",
    "\n",
    "# 创建工具条控件\n",
    "toolbar = NavigationToolbar2Tk(canvas, root)\n",
    "toolbar.update()\n",
    "# 显示工具条控件\n",
    "canvas.get_tk_widget().pack()\n",
    "\n",
    "\n",
    "# 绑定快捷键函数\n",
    "def on_key_press(event):\n",
    "    print(\"you pressed {}\".format(event.key))\n",
    "    key_press_handler(event, canvas, toolbar)\n",
    "\n",
    "\n",
    "# 调用快捷键函数\n",
    "canvas.mpl_connect(\"key_press_event\", on_key_press)\n",
    "\n",
    "\n",
    "# 退出函数\n",
    "def _quit():\n",
    "    root.quit()\n",
    "    root.destroy()\n",
    "\n",
    "\n",
    "# 退出按钮控件\n",
    "button = tkinter.Button(master=root, text=\"Quit\", command=_quit)\n",
    "button.pack(side=tkinter.BOTTOM)\n",
    "\n",
    "# 消息循环\n",
    "tkinter.mainloop()"
   ]
  },
  {
   "cell_type": "code",
   "execution_count": 2,
   "id": "e3612b17",
   "metadata": {},
   "outputs": [
    {
     "data": {
      "text/plain": [
       "[<matplotlib.lines.Line2D at 0x1633125f8b0>]"
      ]
     },
     "execution_count": 2,
     "metadata": {},
     "output_type": "execute_result"
    },
    {
     "data": {
      "image/png": "[encoded data removed]",
      "text/plain": [
       "<Figure size 864x144 with 1 Axes>"
      ]
     },
     "metadata": {
      "needs_background": "light"
     },
     "output_type": "display_data"
    }
   ],
   "source": [
    "import pandas as pd\n",
    "import numpy as np\n",
    "import matplotlib.pyplot as plt\n",
    "from itertools import chain\n",
    "plt.rcParams['figure.figsize'] = (12.0, 2.0) # 单位是inches\n",
    "ch1 = pd.read_excel('CH1.xlsx', header=None)\n",
    "ch1 = np.array(ch1)\n",
    "# 然后转化为list形式\n",
    "ch1 =ch1.tolist()\n",
    "ch1 = list(chain.from_iterable(ch1))\n",
    "x = [0 for i in range(len(ch1))]\n",
    "for i in range(len(ch1)):\n",
    "    if(i%2)==0:\n",
    "        x[i] = 1\n",
    "for i in range(1,len(ch1)-1):\n",
    "    ch1[i] = ch1[i-1] + ch1[i] \n",
    "plt.plot(ch1,x,drawstyle='steps-pre')"
   ]
  },
  {
   "cell_type": "code",
   "execution_count": 3,
   "id": "fd48731e",
   "metadata": {},
   "outputs": [
    {
     "data": {
      "text/plain": [
       "[<matplotlib.lines.Line2D at 0x2296179a9a0>]"
      ]
     },
     "execution_count": 3,
     "metadata": {},
     "output_type": "execute_result"
    },
    {
     "data": {
      "image/png": "[encoded data removed]",
      "text/plain": [
       "<Figure size 864x144 with 1 Axes>"
      ]
     },
     "metadata": {
      "needs_background": "light"
     },
     "output_type": "display_data"
    }
   ],
   "source": [
    "import pandas as pd\n",
    "import numpy as np\n",
    "import matplotlib.pyplot as plt\n",
    "from itertools import chain\n",
    "plt.rcParams['figure.figsize'] = (12.0, 2.0) # 单位是inches\n",
    "x = pd.read_excel('CH1.xlsx', header=None)\n",
    "x = np.array(x)\n",
    "# 然后转化为list形式\n",
    "x =x.tolist()\n",
    "x = list(chain.from_iterable(x))\n",
    "ch1 = [0 for i in range(len(ch1))]\n",
    "for i in range(len(x)):\n",
    "    if(i%2)==0:\n",
    "        ch1[i] = 1\n",
    "for i in range(1,len(x)-1):\n",
    "    x[i] = x[i-1] + x[i] \n",
    "plt.plot(x,ch1,drawstyle='steps-pre')"
   ]
  },
  {
   "cell_type": "code",
   "execution_count": null,
   "id": "c017dc7b",
   "metadata": {},
   "outputs": [],
   "source": []
  }
 ],
 "metadata": {
  "kernelspec": {
   "display_name": "Python 3",
   "language": "python",
   "name": "python3"
  },
  "language_info": {
   "codemirror_mode": {
    "name": "ipython",
    "version": 3
   },
   "file_extension": ".py",
   "mimetype": "text/x-python",
   "name": "python",
   "nbconvert_exporter": "python",
   "pygments_lexer": "ipython3",
   "version": "3.8.8"
  }
 },
 "nbformat": 4,
 "nbformat_minor": 5
}
